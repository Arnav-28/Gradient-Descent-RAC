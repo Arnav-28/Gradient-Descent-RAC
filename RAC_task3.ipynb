{
  "nbformat": 4,
  "nbformat_minor": 0,
  "metadata": {
    "colab": {
      "provenance": []
    },
    "kernelspec": {
      "name": "python3",
      "display_name": "Python 3"
    },
    "language_info": {
      "name": "python"
    }
  },
  "cells": [
    {
      "cell_type": "code",
      "execution_count": 1,
      "metadata": {
        "id": "3hyV1kgNb1Mz"
      },
      "outputs": [],
      "source": [
        "import numpy as np\n",
        "import matplotlib.pyplot as plt"
      ]
    },
    {
      "cell_type": "code",
      "source": [
        "#Data points\n",
        "\n",
        "points = np.array([[3,1],[4,2.5],[5,7.8],[6,10]])\n",
        "x=points[:,0]\n",
        "y=points[:,1]"
      ],
      "metadata": {
        "id": "brQhrM77dyvI"
      },
      "execution_count": 2,
      "outputs": []
    },
    {
      "cell_type": "code",
      "source": [
        "#Let the equation be y = W + Bx\n",
        "w=0\n",
        "b=1\n",
        "learningRate = 0.01"
      ],
      "metadata": {
        "id": "YNTjtN03gcQf"
      },
      "execution_count": 3,
      "outputs": []
    },
    {
      "cell_type": "code",
      "source": [
        "for i in range (400):\n",
        "    dw = 0.0\n",
        "    db = 0.0\n",
        "\n",
        "    for xi,yi in zip(x,y):\n",
        "        dw += -2*xi*(yi-(w*xi+b))\n",
        "        db += -2*(yi-(w*xi+b))\n",
        "\n",
        "    w = w - (learningRate * dw)\n",
        "    b = b - (learningRate * db)\n",
        "x_line = np.linspace(min(x), max(x), 100)\n",
        "y_line = w * x_line + b"
      ],
      "metadata": {
        "id": "-zub99bDw6Rr"
      },
      "execution_count": 4,
      "outputs": []
    },
    {
      "cell_type": "code",
      "source": [
        "#Illustation of the best fit curve\n",
        "\n",
        "plt.scatter(x, y, label='Data Points')\n",
        "plt.plot(x_line, y_line, color='red', label='Fitted Line')"
      ],
      "metadata": {
        "colab": {
          "base_uri": "https://localhost:8080/",
          "height": 447
        },
        "id": "rljoiTpAgdTy",
        "outputId": "662b782e-23cc-4990-c972-e9158db9fb8c"
      },
      "execution_count": 5,
      "outputs": [
        {
          "output_type": "execute_result",
          "data": {
            "text/plain": [
              "[<matplotlib.lines.Line2D at 0x78bd4ac56710>]"
            ]
          },
          "metadata": {},
          "execution_count": 5
        },
        {
          "output_type": "display_data",
          "data": {
            "text/plain": [
              "<Figure size 640x480 with 1 Axes>"
            ],
            "image/png": "[encoded data removed]"
          },
          "metadata": {}
        }
      ]
    },
    {
      "cell_type": "code",
      "source": [],
      "metadata": {
        "id": "4h-sinNEvJGz"
      },
      "execution_count": null,
      "outputs": []
    }
  ]
}